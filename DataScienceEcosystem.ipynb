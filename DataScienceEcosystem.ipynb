{
 "cells": [
  {
   "cell_type": "markdown",
   "metadata": {},
   "source": [
    "<center>\n",
    "    <img src=\"https://cf-courses-data.s3.us.cloud-object-storage.appdomain.cloud/IBMDeveloperSkillsNetwork-DS0105EN-SkillsNetwork/labs/Module2/images/SN_web_lightmode.png\" width=\"300\" alt=\"cognitiveclass.ai logo\">\n",
    "</center>\n"
   ]
  },
  {
   "cell_type": "markdown",
   "metadata": {},
   "source": [
    "#### Add your code below following the instructions given in the course\n"
   ]
  },
  {
   "cell_type": "markdown",
   "metadata": {},
   "source": [
    "# Data Science Tools and Ecosystem"
   ]
  },
  {
   "cell_type": "markdown",
   "metadata": {},
   "source": [
    "在这个 notebook 中，汇总了数据科学工具和生态系统。"
   ]
  },
  {
   "cell_type": "markdown",
   "metadata": {},
   "source": [
    "**目标：**  \n",
    "本 Notebook 主要涵盖以下数据科学基础知识：  \n",
    "\n",
    "- 列出数据科学的**流行编程语言**（如Python、R等）  \n",
    "- 介绍常用的**数据科学库与工具**（如Pandas、NumPy等）  \n",
    "- 演示**基础代码操作**（算术运算、单位转换等）  \n",
    " "
   ]
  },
  {
   "cell_type": "markdown",
   "metadata": {},
   "source": [
    "一些数据科学家使用的流行语言包括：\n",
    "\n",
    "1. Python - 数据科学中最流行的语言，拥有丰富的库（如 Pandas、NumPy、Scikit-learn）\n",
    "2. R - 专门为统计计算和图形设计，广泛用于学术研究\n",
    "3. SQL - 用于数据库管理和数据查询的必备语言\n",
    "4. Julia - 新兴的高性能科学计算语言\n",
    "5. Scala - 常与 Apache Spark 结合用于大数据处理"
   ]
  },
  {
   "cell_type": "markdown",
   "metadata": {},
   "source": [
    "一些数据科学家常用的库包括：\n",
    "\n",
    "1. **Pandas** - Python 数据分析核心库，提供高效的数据结构和数据分析工具\n",
    "2. **NumPy** - Python 科学计算基础包，支持大型多维数组和矩阵运算\n",
    "3. **Scikit-learn** - Python 机器学习库，包含各种分类、回归和聚类算法\n",
    "4. **TensorFlow** - Google 开发的端到端开源机器学习平台\n",
    "5. **PyTorch** - Facebook 开发的深度学习框架，研究领域广泛使用\n",
    "6. **Matplotlib** - Python 基础绘图库，可创建各种静态、动态和交互式可视化\n",
    "7. **Seaborn** - 基于 Matplotlib 的高级可视化库，统计图形更美观易用"
   ]
  },
  {
   "cell_type": "markdown",
   "metadata": {},
   "source": [
    "| Data Science Tools |\n",
    "|--------------------|\n",
    "| Jupyter Notebook   |\n",
    "| RStudio            |\n",
    "| VS Code (with Python/Jupyter extensions) |"
   ]
  },
  {
   "cell_type": "markdown",
   "metadata": {},
   "source": [
    "### 以下是一些在 Python 中评估算术表达式的示例。"
   ]
  },
  {
   "cell_type": "code",
   "execution_count": 3,
   "metadata": {},
   "outputs": [
    {
     "data": {
      "text/plain": [
       "17"
      ]
     },
     "execution_count": 3,
     "metadata": {},
     "output_type": "execute_result"
    }
   ],
   "source": [
    "# 这是一个简单的算术表达式，用于先乘后加整数\n",
    "result = (3 * 4) + 5\n",
    "result"
   ]
  },
  {
   "cell_type": "code",
   "execution_count": 4,
   "metadata": {},
   "outputs": [
    {
     "data": {
      "text/plain": [
       "3.3333333333333335"
      ]
     },
     "execution_count": 4,
     "metadata": {},
     "output_type": "execute_result"
    }
   ],
   "source": [
    "# 这将通过除以60将200分钟转换为小时\n",
    "hours = 200 / 60\n",
    "hours"
   ]
  },
  {
   "cell_type": "markdown",
   "metadata": {},
   "source": [
    "## 作者  \n",
    "王金珂"
   ]
  },
  {
   "cell_type": "code",
   "execution_count": null,
   "metadata": {},
   "outputs": [],
   "source": []
  }
 ],
 "metadata": {
  "kernelspec": {
   "display_name": "Python 3 (ipykernel)",
   "language": "python",
   "name": "python3"
  },
  "language_info": {
   "codemirror_mode": {
    "name": "ipython",
    "version": 3
   },
   "file_extension": ".py",
   "mimetype": "text/x-python",
   "name": "python",
   "nbconvert_exporter": "python",
   "pygments_lexer": "ipython3",
   "version": "3.12.8"
  }
 },
 "nbformat": 4,
 "nbformat_minor": 4
}
